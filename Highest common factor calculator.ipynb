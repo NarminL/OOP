{
 "cells": [
  {
   "cell_type": "code",
   "execution_count": 29,
   "id": "c9f08dc3",
   "metadata": {},
   "outputs": [
    {
     "name": "stdout",
     "output_type": "stream",
     "text": [
      "84\n",
      "49\n",
      "7\n"
     ]
    }
   ],
   "source": [
    "#Highest common factor claculator func\n",
    "\n",
    "e1=int(input())\n",
    "e2=int(input())\n",
    "\n",
    "fact=[]\n",
    "\n",
    "if e2>e1:\n",
    "    e1,e2=e2,e1\n",
    "    \n",
    "for i in range(1,e2+1):\n",
    "    if e1%i==0 and e2%i==0:\n",
    "        fact.append(i)\n",
    "print(max(fact))\n",
    "            "
   ]
  }
 ],
 "metadata": {
  "kernelspec": {
   "display_name": "Python 3 (ipykernel)",
   "language": "python",
   "name": "python3"
  },
  "language_info": {
   "codemirror_mode": {
    "name": "ipython",
    "version": 3
   },
   "file_extension": ".py",
   "mimetype": "text/x-python",
   "name": "python",
   "nbconvert_exporter": "python",
   "pygments_lexer": "ipython3",
   "version": "3.10.9"
  }
 },
 "nbformat": 4,
 "nbformat_minor": 5
}
